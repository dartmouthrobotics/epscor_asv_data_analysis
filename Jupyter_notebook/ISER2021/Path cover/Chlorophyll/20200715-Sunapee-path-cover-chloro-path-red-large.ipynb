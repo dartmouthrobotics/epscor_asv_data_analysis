{
 "cells": [
  {
   "cell_type": "code",
   "execution_count": 34,
   "metadata": {},
   "outputs": [],
   "source": [
    "#!/usr/bin/env python\n",
    "import matplotlib.pyplot as plt\n",
    "import matplotlib.colors as colors\n",
    "import matplotlib.tri as tri\n",
    "from mpl_toolkits.axes_grid1.anchored_artists import AnchoredSizeBar\n",
    "from matplotlib import ticker, cm\n",
    "import numpy as np\n",
    "from numpy import ma\n",
    "import csv\n",
    "import matplotlib.font_manager as fm\n",
    "import statistics "
   ]
  },
  {
   "cell_type": "code",
   "execution_count": 46,
   "metadata": {
    "scrolled": true
   },
   "outputs": [
    {
     "data": {
      "image/png": "[encoded data removed]",
      "text/plain": [
       "<Figure size 432x288 with 1 Axes>"
      ]
     },
     "metadata": {
      "needs_background": "light"
     },
     "output_type": "display_data"
    }
   ],
   "source": [
    "degree_sign= u'\\N{DEGREE SIGN}'\n",
    "\n",
    "CSV_FILE_PATH = '../../../../Data/ISER2021/Sunapee-20200715-path-3.csv'\n",
    "#CSV_FILE_PATH2 = '../../../../Data/ISER2021/Sunapee-20200715-path-2.csv'\n",
    "#CSV_FILE_PATH3 = '../../../../Data/ISER2021/Sunapee-20200715-path-3.csv'\n",
    "\n",
    "with open(CSV_FILE_PATH, 'r') as csv_file:\n",
    "    reader = csv.reader(csv_file)\n",
    "    path1_list = np.array(list(reader))\n",
    "\n",
    "'''\n",
    "with open(CSV_FILE_PATH2, 'r') as csv_file:\n",
    "    reader = csv.reader(csv_file)\n",
    "    path2_list = np.array(list(reader))\n",
    "    \n",
    "with open(CSV_FILE_PATH3, 'r') as csv_file:\n",
    "    reader = csv.reader(csv_file)\n",
    "    path3_list = np.array(list(reader))\n",
    "'''\n",
    "#=============================== 07/15 ===============================\n",
    "\n",
    "# one independent\n",
    "\n",
    "z = path1_list[0:2127,29]\n",
    "z = z.astype('float32')\n",
    "\n",
    "# gps x,y\n",
    "x = path1_list[0:2127,2]\n",
    "x = x.astype('float32')\n",
    "y = path1_list[0:2127,1]\n",
    "y = y.astype('float32')\n",
    "\n",
    "\"\"\"\n",
    "# PATH 1\n",
    "# temp 23\n",
    "# chloro 29\n",
    "z1 = path1_list[0:2126,29]\n",
    "z1 = z1.astype('float32')\n",
    "\n",
    "# gps x,y\n",
    "x1 = path1_list[0:2126,2]\n",
    "x1 = x1.astype('float32')\n",
    "y1 = path1_list[0:2126,1]\n",
    "y1 = y1.astype('float32')\n",
    "\n",
    "## PATH 2\n",
    "# chloro 29\n",
    "z2 = path2_list[0:998,29]\n",
    "z2 = z2.astype('float32')\n",
    "\n",
    "# gps x,y\n",
    "x2 = path2_list[0:998,2]\n",
    "x2 = x2.astype('float32')\n",
    "y2 = path2_list[0:998,1]\n",
    "y2 = y2.astype('float32')\n",
    "\n",
    "## PATH 3\n",
    "# chloro 29\n",
    "z3 = path3_list[0:597,29]\n",
    "z3 = z3.astype('float32')\n",
    "\n",
    "# gps x,y\n",
    "x3 = path3_list[0:597,2]\n",
    "x3 = x3.astype('float32')\n",
    "y3 = path3_list[0:597,1]\n",
    "y3 = y3.astype('float32')\n",
    "\n",
    "x = np.concatenate([x1, x2, x3])\n",
    "y = np.concatenate([y1, y2, y3])\n",
    "z = np.concatenate([z1, z2, z3])\n",
    "\"\"\"\n",
    "#=====================================================================\n",
    "\n",
    "f, ax = plt.subplots()\n",
    "#ax.set_title('Catabot 07/15 Sunapee path 1: Temperature (' + degree_sign + 'C)')\n",
    "#ax.set_title('July 15 Sunapee: Chlorophyll (RFU)', fontsize=18)\n",
    "\n",
    "vmax=0.20\n",
    "vmin=0.02\n",
    "levels = np.linspace(vmin,vmax, 50) # original 20\n",
    "\n",
    "cs = ax.tricontourf(x,y,z, 10, norm=colors.SymLogNorm(linthresh=0.03, linscale=0.03), levels=levels,vmax=vmax,vmin=vmin)\n",
    "#cs = ax.tricontourf(x,y,z, 20, vmin=24.35, vmax=26.94)\n",
    "#cs = ax.tricontourf(x,y,z, 20)\n",
    "\n",
    "cb_ticklabel = np.linspace(vmin, vmax, 10)\n",
    "#cb = f.colorbar(cs, ticks=cb_ticklabel, orientation='horizontal', format='%.2f')\n",
    "\n",
    "#ax.set_xlabel('Longitude', fontsize=16)\n",
    "plt.xlim([-72.0377, -72.0327])\n",
    "ax.set_xticks(np.arange(-72.0377, -72.0326, 0.0025))\n",
    "f.canvas.draw()\n",
    "ax.set_xticklabels(['-72.0377', '-72.0352', '-72.0327'])\n",
    "ax.tick_params(axis='x', labelsize=16)\n",
    "ax.tick_params(axis='y', labelsize=16)\n",
    "ax.tick_params(axis='y', labelrotation=90)\n",
    "#ax.tick_params('both', length=20, width=2, which='major')\n",
    "#ax.xaxis.set_ticks_position('none') \n",
    "#ax.yaxis.set_ticks_position('none') \n",
    "\n",
    "#ax.set_ylabel('Latitude', fontsize=16)\n",
    "plt.ylim([43.4095, 43.4120])\n",
    "ax.set_yticks(np.arange(43.4095, 43.4121, 0.0025))\n",
    "f.canvas.draw()\n",
    "ax.set_yticklabels(['43.4100', '43.4125'])\n",
    "\n",
    "# path 1,2,3\n",
    "#ax.plot(x,y,marker='o', color='k', markersize=0.1)\n",
    "#ax.plot(x,y,marker='o', color='b', markersize=0.1)\n",
    "ax.plot(x,y,marker='o', color='r', markersize=0.1)\n",
    "\n",
    "ax.set_aspect('equal')\n",
    "plt.grid(False)\n",
    "\n",
    "# remove the tick\n",
    "frame = plt.gca()\n",
    "frame.axes.xaxis.set_ticklabels([])\n",
    "frame.axes.yaxis.set_ticklabels([])\n",
    "\n",
    "\n",
    "# summer buoy\n",
    "ax.plot(np.array([-72.033128]), np.array([43.4096079]), color='k', marker='o', markersize=13)\n",
    "ax.plot(np.array([-72.033128]), np.array([43.4096079]), color='yellow', marker='o', markersize=8)\n",
    "\n",
    "# boathouse\n",
    "ax.plot(np.array([-72.0369625]), np.array([43.4100466]), color='k', marker=(5,1), markersize=16)\n",
    "ax.plot(np.array([-72.0369625]), np.array([43.4100466]), color='#FF4500', marker=(5,1), markersize=8)\n",
    "\n",
    "# winter buoy\n",
    "ax.plot(np.array([-72.0365116]), np.array([43.410345]), color='k', marker='o', markersize=13)\n",
    "ax.plot(np.array([-72.0365116]), np.array([43.410345]), color='m', marker='o', markersize=8)\n",
    "\n",
    "fontprops = fm.FontProperties(size=18)\n",
    "bar = AnchoredSizeBar(ax.transData, 0.00046, '40 m', 'upper right', pad=0.6, frameon=False, fontproperties=fontprops)\n",
    "ax.add_artist(bar)\n",
    "plt.show()\n",
    "f.savefig('0715-path-onlyone-path-red-large-font.pdf', bbox_inches ='tight')\n",
    "\n",
    "# to save only color bar\n",
    "#ax.remove()\n",
    "#cb.ax.xaxis.set_ticks_position('top')\n",
    "#cb.ax.xaxis.set_label_position('top')\n",
    "#cb.ax.tick_params(labelsize=14)\n",
    "#cb.set_label(label='Temperature (' + degree_sign + 'C)', size=14)\n",
    "\n",
    "\n",
    "#plt.show()\n"
   ]
  },
  {
   "cell_type": "code",
   "execution_count": 3,
   "metadata": {},
   "outputs": [
    {
     "data": {
      "text/plain": [
       "0.056544393"
      ]
     },
     "execution_count": 3,
     "metadata": {},
     "output_type": "execute_result"
    }
   ],
   "source": [
    "min(z)"
   ]
  },
  {
   "cell_type": "code",
   "execution_count": 4,
   "metadata": {},
   "outputs": [
    {
     "data": {
      "text/plain": [
       "0.13171719"
      ]
     },
     "execution_count": 4,
     "metadata": {},
     "output_type": "execute_result"
    }
   ],
   "source": [
    "max(z)"
   ]
  },
  {
   "cell_type": "code",
   "execution_count": 33,
   "metadata": {},
   "outputs": [
    {
     "data": {
      "text/plain": [
       "530.9247656944456"
      ]
     },
     "execution_count": 33,
     "metadata": {},
     "output_type": "execute_result"
    }
   ],
   "source": [
    "from geopy.distance import distance\n",
    "dist = 0 \n",
    "for i in range(len(x)):\n",
    "    if i != 0:\n",
    "        coords_1_x = x[i]\n",
    "        coords_1_y = y[i]\n",
    "        coords_2_x = x[i-1]\n",
    "        coords_2_y = y[i-1]\n",
    "        coords_1 = (coords_1_x, coords_1_y)\n",
    "        coords_2 = (coords_2_x, coords_2_y)\n",
    "        dist += distance(coords_1, coords_2).m\n",
    "    else:\n",
    "        continue\n",
    "dist"
   ]
  },
  {
   "cell_type": "code",
   "execution_count": null,
   "metadata": {},
   "outputs": [],
   "source": [
    "#area 14702.29 m^2"
   ]
  },
  {
   "cell_type": "code",
   "execution_count": 35,
   "metadata": {},
   "outputs": [
    {
     "data": {
      "text/plain": [
       "0.09605062"
      ]
     },
     "execution_count": 35,
     "metadata": {},
     "output_type": "execute_result"
    }
   ],
   "source": [
    "np.mean(z)"
   ]
  },
  {
   "cell_type": "code",
   "execution_count": 36,
   "metadata": {},
   "outputs": [
    {
     "data": {
      "text/plain": [
       "0.015129709"
      ]
     },
     "execution_count": 36,
     "metadata": {},
     "output_type": "execute_result"
    }
   ],
   "source": [
    "np.std(z)"
   ]
  },
  {
   "cell_type": "code",
   "execution_count": 37,
   "metadata": {},
   "outputs": [
    {
     "data": {
      "text/plain": [
       "0.056544393"
      ]
     },
     "execution_count": 37,
     "metadata": {},
     "output_type": "execute_result"
    }
   ],
   "source": [
    "np.min(z)"
   ]
  },
  {
   "cell_type": "code",
   "execution_count": 38,
   "metadata": {},
   "outputs": [
    {
     "data": {
      "text/plain": [
       "0.13171719"
      ]
     },
     "execution_count": 38,
     "metadata": {},
     "output_type": "execute_result"
    }
   ],
   "source": [
    "np.max(z)"
   ]
  },
  {
   "cell_type": "code",
   "execution_count": 39,
   "metadata": {},
   "outputs": [
    {
     "data": {
      "text/plain": [
       "0.09455937"
      ]
     },
     "execution_count": 39,
     "metadata": {},
     "output_type": "execute_result"
    }
   ],
   "source": [
    "np.median(z)"
   ]
  },
  {
   "cell_type": "code",
   "execution_count": null,
   "metadata": {},
   "outputs": [],
   "source": []
  }
 ],
 "metadata": {
  "kernelspec": {
   "display_name": "Python 3",
   "language": "python",
   "name": "python3"
  },
  "language_info": {
   "codemirror_mode": {
    "name": "ipython",
    "version": 3
   },
   "file_extension": ".py",
   "mimetype": "text/x-python",
   "name": "python",
   "nbconvert_exporter": "python",
   "pygments_lexer": "ipython3",
   "version": "3.6.10"
  }
 },
 "nbformat": 4,
 "nbformat_minor": 2
}
