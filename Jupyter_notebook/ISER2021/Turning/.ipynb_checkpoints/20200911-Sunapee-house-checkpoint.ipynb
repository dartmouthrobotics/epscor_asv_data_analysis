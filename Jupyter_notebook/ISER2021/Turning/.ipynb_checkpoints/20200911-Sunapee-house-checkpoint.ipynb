{
 "cells": [
  {
   "cell_type": "code",
   "execution_count": 1,
   "metadata": {},
   "outputs": [],
   "source": [
    "# Load essential libraries\n",
    "import csv\n",
    "import numpy as np\n",
    "import matplotlib.pyplot as plt\n",
    "import statistics \n",
    "import numpy as np\n",
    "from scipy.signal import butter, lfilter, freqz\n",
    "from IPython.display import Image\n",
    "\n",
    "from datetime import datetime"
   ]
  },
  {
   "cell_type": "code",
   "execution_count": 2,
   "metadata": {},
   "outputs": [],
   "source": [
    "# Time and robot egomotion\n",
    "time = []\n",
    "standardized_time = []\n",
    "standardized_time2 = []\n",
    "compass_heading = []\n",
    "speed = []\n",
    "speed_y = []\n",
    "\n",
    "# sonde data\n",
    "temp = []\n",
    "PH = []\n",
    "cond = [] # ms\n",
    "chlorophyll = [] \n",
    "ODO = [] # mg/L\n",
    "sonar = []\n",
    "angular_z = []\n",
    "roll = []\n",
    "pitch = []\n",
    "\n",
    "# wp data\n",
    "wp_time = []\n",
    "wp_seq = []"
   ]
  },
  {
   "cell_type": "code",
   "execution_count": 3,
   "metadata": {},
   "outputs": [
    {
     "data": {
      "text/plain": [
       "\"\\n# wp data \\nwith open(file2, 'r') as csvfile2:\\n    csvreader2 = csv.reader(csvfile2, delimiter=',')\\n    header = next(csvreader2)\\n    for row in csvreader2:\\n        current_time = float(row[0])\\n        \\n        if current_time - initial_time <= time_crop:\\n        #if current_time - initial_time >= time_crop1 and current_time - initial_time < time_crop2:\\n            wp_time.append(float(row[0]))\\n            wp_seq.append(float(row[1]))\\n            \\n    for time_stamp in wp_time:\\n        standardized_time2.append(time_stamp - minimum_time)\\n\""
      ]
     },
     "execution_count": 3,
     "metadata": {},
     "output_type": "execute_result"
    }
   ],
   "source": [
    "initial_time = None\n",
    "time_crop = 4000\n",
    "#time_crop1 = 500\n",
    "#time_crop2 = 800\n",
    "\n",
    "# File loading from relative path\n",
    "#file = '../../../Data/ISER2021/China-catabot-20201006.csv'\n",
    "file = '../../../Data/ISER2021/Sunapee-catabot-20200826-house.csv'\n",
    "# File loading from relative path\n",
    "#file2 = '../../../Data/ISER2021/China-catabot-20201006-mavros.csv'\n",
    "\n",
    "# original data\n",
    "with open(file, 'r') as csvfile:\n",
    "    csvreader= csv.reader(csvfile, delimiter=',')\n",
    "    header = next(csvreader)\n",
    "    for row in csvreader:\n",
    "        # robot data\n",
    "        if initial_time is None:\n",
    "            initial_time = float(row[0])\n",
    "        \n",
    "        current_time = float(row[0])\n",
    "        \n",
    "        #if current_time - initial_time >= time_crop1 and current_time - initial_time < time_crop2:\n",
    "        if current_time - initial_time <= time_crop:\n",
    "            time.append(float(row[0]))\n",
    "            compass_heading.append(float(row[4]))\n",
    "            speed.append(float(row[6]))\n",
    "            speed_y.append(float(row[11]))\n",
    "            roll.append(float(row[16]))\n",
    "            pitch.append(float(row[17]))\n",
    "            angular_z.append(float(row[18]))\n",
    "\n",
    "            # sonde data\n",
    "            temp.append(float(row[23]))\n",
    "            PH.append(float(row[26]))\n",
    "            cond.append(float(row[25]))\n",
    "            chlorophyll.append(float(row[29]))\n",
    "            ODO.append(float(row[31]))\n",
    "            sonar.append(float(row[8]))\n",
    "\n",
    "\n",
    "    minimum_time = min(time)\n",
    "    for time_stamp in time:\n",
    "        standardized_time.append(time_stamp - minimum_time)\n",
    "\n",
    "\"\"\"\n",
    "# wp data \n",
    "with open(file2, 'r') as csvfile2:\n",
    "    csvreader2 = csv.reader(csvfile2, delimiter=',')\n",
    "    header = next(csvreader2)\n",
    "    for row in csvreader2:\n",
    "        current_time = float(row[0])\n",
    "        \n",
    "        if current_time - initial_time <= time_crop:\n",
    "        #if current_time - initial_time >= time_crop1 and current_time - initial_time < time_crop2:\n",
    "            wp_time.append(float(row[0]))\n",
    "            wp_seq.append(float(row[1]))\n",
    "            \n",
    "    for time_stamp in wp_time:\n",
    "        standardized_time2.append(time_stamp - minimum_time)\n",
    "\"\"\""
   ]
  },
  {
   "cell_type": "markdown",
   "metadata": {},
   "source": [
    "### Compass heading"
   ]
  },
  {
   "cell_type": "code",
   "execution_count": null,
   "metadata": {},
   "outputs": [],
   "source": [
    "# Figure initialization\n",
    "fig, ax1 = plt.subplots()\n",
    "\n",
    "ax1.set_xlabel('Time [sec]', fontsize=16)\n",
    "ax1.set_ylabel('Heading [degree]', fontsize=16)\n",
    "ax1.plot(standardized_time, compass_heading, label='compass heading')\n",
    "ax1.legend()\n",
    "\n",
    "    \n",
    "plt.show()"
   ]
  },
  {
   "cell_type": "code",
   "execution_count": null,
   "metadata": {},
   "outputs": [],
   "source": [
    "# Figure initialization\n",
    "fig, ax1 = plt.subplots()\n",
    "\n",
    "dt_list = []\n",
    "dy_list = []\n",
    "\n",
    "for i, data in enumerate(compass_heading):\n",
    "    if i == 0:\n",
    "        continue\n",
    "    else:\n",
    "        dt_list.append(standardized_time[i] - standardized_time[i-1])\n",
    "        compass_difference = compass_heading[i] - compass_heading[i-1]\n",
    "        if 270 <= compass_heading[i-1] < 360 and 0<= compass_heading[i] <=90:\n",
    "            compass_difference += 360\n",
    "        elif 270 <= compass_heading[i] < 360 and 0<= compass_heading[i-1] <=90:\n",
    "            compass_difference -= 360\n",
    "        dy_list.append(compass_difference)\n",
    "        \n",
    "dt_list = np.array(dt_list)\n",
    "dy_list = np.array(dy_list)\n",
    "\n",
    "        \n",
    "ax1.set_xlabel('Time [sec]', fontsize=16)\n",
    "ax1.set_ylabel('Derivative Heading [degree]', fontsize=16)\n",
    "ax1.plot(standardized_time[1:], dy_list/dt_list, label='compass heading change')\n",
    "ax1.legend()\n",
    "\n",
    "    \n",
    "plt.show()"
   ]
  },
  {
   "cell_type": "code",
   "execution_count": null,
   "metadata": {},
   "outputs": [],
   "source": [
    "# Figure initialization\n",
    "fig, ax1 = plt.subplots()\n",
    "\n",
    "ax1.set_xlabel('Time [sec]', fontsize=16)\n",
    "ax1.set_ylabel('ground_speed [m/s]', fontsize=16)\n",
    "ax1.plot(standardized_time, speed, label='ground_speed', color='m')\n",
    "ax1.legend()\n",
    "\n",
    "plt.show()"
   ]
  },
  {
   "cell_type": "code",
   "execution_count": null,
   "metadata": {},
   "outputs": [],
   "source": [
    "# Figure initialization\n",
    "fig, ax1 = plt.subplots()\n",
    "\n",
    "ax1.set_xlabel('Time [sec]', fontsize=16)\n",
    "ax1.set_ylabel('ground_speed_y [m/s]', fontsize=16)\n",
    "ax1.plot(standardized_time, speed_y, label='ground_speed_x', color='m')\n",
    "ax1.legend()\n",
    "    \n",
    "plt.show()"
   ]
  },
  {
   "cell_type": "code",
   "execution_count": null,
   "metadata": {},
   "outputs": [],
   "source": [
    "# Figure initialization\n",
    "fig, ax1 = plt.subplots()\n",
    "\n",
    "ax1.set_xlabel('Time [sec]', fontsize=16)\n",
    "ax1.set_ylabel('angular_z [rad/s]', fontsize=16)\n",
    "ax1.plot(standardized_time, angular_z, label='angular_z', color='r')\n",
    "ax1.legend()\n",
    "    \n",
    "plt.show()"
   ]
  },
  {
   "cell_type": "markdown",
   "metadata": {},
   "source": [
    "### Temperature"
   ]
  },
  {
   "cell_type": "code",
   "execution_count": null,
   "metadata": {},
   "outputs": [],
   "source": [
    "# Figure initialization\n",
    "fig, ax1 = plt.subplots()\n",
    "\n",
    "ax1.set_xlabel('Time [sec]', fontsize=16)\n",
    "ax1.set_ylabel('Temperature [degree]', fontsize=16)\n",
    "ax1.plot(standardized_time, temp, label='temp', color='k')\n",
    "ax1.legend()\n",
    "    \n",
    "plt.show()\n",
    "\n",
    "print(\"Standard Deviation of the temp is % s \" %(statistics.stdev(temp)))\n",
    "print(\"Mean of the temp is % s \" %(statistics.mean(temp))) "
   ]
  },
  {
   "cell_type": "markdown",
   "metadata": {},
   "source": [
    "### PH"
   ]
  },
  {
   "cell_type": "code",
   "execution_count": null,
   "metadata": {
    "scrolled": false
   },
   "outputs": [],
   "source": [
    "# Figure initialization\n",
    "fig, ax1 = plt.subplots()\n",
    "\n",
    "ax1.set_xlabel('Time [sec]', fontsize=16)\n",
    "ax1.set_ylabel('PH', fontsize=16)\n",
    "ax1.plot(standardized_time, PH, label='PH', color='r')\n",
    "ax1.legend()\n",
    "    \n",
    "plt.show()\n",
    "\n",
    "print(\"Standard Deviation of the temp is % s \" %(statistics.stdev(PH)))\n",
    "print(\"Mean of the temp is % s \" %(statistics.mean(PH))) "
   ]
  },
  {
   "cell_type": "markdown",
   "metadata": {},
   "source": [
    "### Conductivity"
   ]
  },
  {
   "cell_type": "code",
   "execution_count": null,
   "metadata": {},
   "outputs": [],
   "source": [
    "# Figure initialization\n",
    "fig, ax1 = plt.subplots()\n",
    "\n",
    "ax1.set_xlabel('Time [sec]', fontsize=16)\n",
    "ax1.set_ylabel('Conductivity [ms]', fontsize=16)\n",
    "ax1.plot(standardized_time, cond, label='conductivity', color='b')\n",
    "ax1.legend()\n",
    "    \n",
    "plt.show()\n",
    "\n",
    "print(\"Standard Deviation of the chlorophyll is % s \" %(statistics.stdev(cond)))\n",
    "print(\"Mean of the chlorophyll is % s \" %(statistics.mean(cond)))"
   ]
  },
  {
   "cell_type": "markdown",
   "metadata": {},
   "source": [
    "### Chlorophyll "
   ]
  },
  {
   "cell_type": "code",
   "execution_count": null,
   "metadata": {},
   "outputs": [],
   "source": [
    "# Figure initialization\n",
    "fig, ax1 = plt.subplots()\n",
    "\n",
    "ax1.set_xlabel('Time [sec]', fontsize=16)\n",
    "ax1.set_ylabel('chlorophyll [RFU]', fontsize=16)\n",
    "ax1.plot(standardized_time, chlorophyll, label='chlorophyll', color='g')\n",
    "ax1.legend()\n",
    "    \n",
    "plt.show()\n",
    "\n",
    "print(\"Standard Deviation of the chlorophyll is % s \" %(statistics.stdev(chlorophyll)))\n",
    "print(\"Mean of the chlorophyll is % s \" %(statistics.mean(chlorophyll))) "
   ]
  },
  {
   "cell_type": "markdown",
   "metadata": {},
   "source": [
    "### ODO"
   ]
  },
  {
   "cell_type": "code",
   "execution_count": null,
   "metadata": {},
   "outputs": [],
   "source": [
    "# Figure initialization\n",
    "fig, ax1 = plt.subplots()\n",
    "\n",
    "ax1.set_xlabel('Time [sec]', fontsize=16)\n",
    "ax1.set_ylabel('ODO [%sat]', fontsize=16)\n",
    "ax1.plot(standardized_time, ODO, label='ODO', color='m')\n",
    "ax1.legend()\n",
    "\n",
    "plt.show()\n",
    "\n",
    "print(\"Standard Deviation of the DO is % s \" %(statistics.stdev(ODO)))\n",
    "print(\"Mean of the DO is % s \" %(statistics.mean(ODO))) "
   ]
  },
  {
   "cell_type": "code",
   "execution_count": null,
   "metadata": {},
   "outputs": [],
   "source": [
    "# Figure initialization\n",
    "fig, ax1 = plt.subplots()\n",
    "\n",
    "dt_list = []\n",
    "dy_list = []\n",
    "\n",
    "for i, data in enumerate(ODO):\n",
    "    if i == 0:\n",
    "        continue\n",
    "    else:\n",
    "        dt_list.append(standardized_time[i] - standardized_time[i-1])\n",
    "        dy_list.append(ODO[i] - ODO[i-1])\n",
    "        \n",
    "dt_list = np.array(dt_list)\n",
    "dy_list = np.array(dy_list)\n",
    "\n",
    "        \n",
    "ax1.set_xlabel('Time [sec]', fontsize=16)\n",
    "ax1.set_ylabel('DO change [%sat/s]', fontsize=16)\n",
    "ax1.plot(standardized_time[1:], dy_list/dt_list, label='DO change')\n",
    "ax1.legend()\n",
    "\n",
    "plt.show()"
   ]
  },
  {
   "cell_type": "markdown",
   "metadata": {},
   "source": [
    "### Sonar depth"
   ]
  },
  {
   "cell_type": "code",
   "execution_count": null,
   "metadata": {},
   "outputs": [],
   "source": [
    "# Figure initialization\n",
    "fig, ax1 = plt.subplots()\n",
    "\n",
    "ax1.set_xlabel('Time [sec]', fontsize=16)\n",
    "ax1.set_ylabel('sonar [m]', fontsize=16)\n",
    "ax1.plot(standardized_time, sonar, label='sonar', color='c')\n",
    "ax1.legend()\n",
    "    \n",
    "plt.show()"
   ]
  },
  {
   "cell_type": "code",
   "execution_count": null,
   "metadata": {},
   "outputs": [],
   "source": [
    "fig, (ax1, ax2, ax3, ax4) = plt.subplots(4, figsize=(6,5))\n",
    "#fig.suptitle('Vertically stacked subplots')\n",
    "\n",
    "axis = (ax1, ax2, ax3, ax4)\n",
    "\n",
    "ax1.plot(standardized_time, compass_heading, color='green')\n",
    "ax1.tick_params(axis='y')\n",
    "ax1.tick_params(labelbottom=False)\n",
    "#ax1.set_ylim([0, 360])\n",
    "ax1.set_ylabel('Heading \\n (deg)')\n",
    "\n",
    "\n",
    "ax2.plot(standardized_time, angular_z, color='blueviolet')\n",
    "ax2.set_ylim([-1.6, 1.6])\n",
    "#ax2.set_xlabel('Time (s)')\n",
    "ax2.tick_params(labelbottom=False)\n",
    "ax2.set_ylabel('Yaw Velocity \\n (rad/s)')\n",
    "\n",
    "ax3.plot(standardized_time, roll, color='brown')\n",
    "ax3.set_ylim([-1.6, 1.6])\n",
    "#ax3.set_xlabel('Time (s)')\n",
    "ax3.tick_params(labelbottom=False)\n",
    "ax3.set_ylabel('Roll Velocity \\n (rad/s)')\n",
    "\n",
    "ax4.plot(standardized_time, pitch, color='blue')\n",
    "ax4.set_ylim([-1.6, 1.6])\n",
    "ax4.set_xlabel('Time (s)')\n",
    "ax4.set_ylabel('Pitch Velocity \\n (rad/s)')\n",
    "\n",
    "fig.savefig('0812-house-turning-heading.pdf', bbox_inches ='tight')"
   ]
  },
  {
   "cell_type": "code",
   "execution_count": null,
   "metadata": {},
   "outputs": [],
   "source": [
    "# Figure initialization\n",
    "fig, ax1 = plt.subplots()\n",
    "color = 'tab:red'\n",
    "\n",
    "ax1.set_xlabel('Time (s)')\n",
    "ax1.set_ylabel('Dissolved Oxygen (mg/L)')\n",
    "ax1.plot(standardized_time, ODO, label='ODO', color=color)\n",
    "ax1.tick_params(axis='y')\n",
    "#ax1.legend()\n",
    "\n",
    "\"\"\"\n",
    "ax2 = ax1.twinx()\n",
    "\n",
    "color = 'tab:blue'\n",
    "ax2.set_ylabel('Conductivity (mS/cm)', color=color)\n",
    "ax2.plot(standardized_time, cond, color=color)\n",
    "ax2.tick_params(axis='y', labelcolor=color)\n",
    "\n",
    "plt.axvline(x=630, color='orange', linestyle='--', LineWidth=3)\n",
    "plt.axvline(x=780, color='orange', linestyle='--', LineWidth=3)\n",
    "\"\"\"\n",
    "plt.show()\n",
    "\n",
    "fig.savefig('0812-house-turning-DO.pdf', bbox_inches ='tight')"
   ]
  },
  {
   "cell_type": "code",
   "execution_count": null,
   "metadata": {},
   "outputs": [],
   "source": []
  }
 ],
 "metadata": {
  "kernelspec": {
   "display_name": "Python 3",
   "language": "python",
   "name": "python3"
  },
  "language_info": {
   "codemirror_mode": {
    "name": "ipython",
    "version": 3
   },
   "file_extension": ".py",
   "mimetype": "text/x-python",
   "name": "python",
   "nbconvert_exporter": "python",
   "pygments_lexer": "ipython3",
   "version": "3.6.10"
  }
 },
 "nbformat": 4,
 "nbformat_minor": 2
}
