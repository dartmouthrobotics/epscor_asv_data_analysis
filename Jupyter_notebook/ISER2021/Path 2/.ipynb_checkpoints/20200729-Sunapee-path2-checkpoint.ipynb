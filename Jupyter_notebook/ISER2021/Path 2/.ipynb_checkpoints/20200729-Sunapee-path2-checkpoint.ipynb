{
 "cells": [
  {
   "cell_type": "code",
   "execution_count": null,
   "metadata": {},
   "outputs": [],
   "source": [
    "# Load essential libraries\n",
    "import csv\n",
    "import numpy as np\n",
    "import matplotlib.pyplot as plt\n",
    "import statistics \n",
    "import numpy as np\n",
    "from scipy.signal import butter, lfilter, freqz\n",
    "from IPython.display import Image\n",
    "\n",
    "from datetime import datetime"
   ]
  },
  {
   "cell_type": "code",
   "execution_count": null,
   "metadata": {},
   "outputs": [],
   "source": [
    "# Time and robot egomotion\n",
    "time = []\n",
    "standardized_time = []\n",
    "standardized_time2 = []\n",
    "compass_heading = []\n",
    "speed = []\n",
    "\n",
    "# sonde data\n",
    "temp = []\n",
    "PH = []\n",
    "cond = [] # ms\n",
    "chlorophyll = [] \n",
    "ODO = [] # mg/L\n",
    "sonar = []\n",
    "angular_z = []\n",
    "\n",
    "# wp data\n",
    "wp_time = []\n",
    "wp_seq = []"
   ]
  },
  {
   "cell_type": "code",
   "execution_count": null,
   "metadata": {},
   "outputs": [],
   "source": [
    "initial_time = None\n",
    "time_crop = 4000\n",
    "\n",
    "# File loading from relative path\n",
    "file = '../../../Data/ISER2021/Sunapee-20200720-path-2.csv'\n",
    "# File loading from relative path\n",
    "file2 = '../../../Data/ISER2021/Sunapee-20200720-path-2-mavros.csv'\n",
    "\n",
    "# original data\n",
    "with open(file, 'r') as csvfile:\n",
    "    csvreader= csv.reader(csvfile, delimiter=',')\n",
    "    header = next(csvreader)\n",
    "    for row in csvreader:\n",
    "        # robot data\n",
    "        if initial_time is None:\n",
    "            initial_time = float(row[0])\n",
    "        \n",
    "        current_time = float(row[0])\n",
    "        \n",
    "        #if current_time - initial_time >= 700 and current_time - initial_time < 1000:\n",
    "        if current_time - initial_time <= time_crop:\n",
    "            time.append(float(row[0]))\n",
    "            compass_heading.append(float(row[4]))\n",
    "            speed.append(float(row[10]))\n",
    "            angular_z.append(float(row[18]))\n",
    "\n",
    "            # sonde data\n",
    "            temp.append(float(row[23]))\n",
    "            PH.append(float(row[26]))\n",
    "            cond.append(float(row[25]))\n",
    "            chlorophyll.append(float(row[29]))\n",
    "            ODO.append(float(row[30]))\n",
    "            sonar.append(float(row[8]))\n",
    "\n",
    "\n",
    "    minimum_time = min(time)\n",
    "    for time_stamp in time:\n",
    "        standardized_time.append(time_stamp - minimum_time)\n",
    "\n",
    "# wp data \n",
    "with open(file2, 'r') as csvfile2:\n",
    "    csvreader2 = csv.reader(csvfile2, delimiter=',')\n",
    "    header = next(csvreader2)\n",
    "    for row in csvreader2:\n",
    "        current_time = float(row[0])\n",
    "        \n",
    "        if current_time - initial_time <= time_crop:\n",
    "            wp_time.append(float(row[0]))\n",
    "            wp_seq.append(float(row[1]))\n",
    "            \n",
    "    for time_stamp in wp_time:\n",
    "        standardized_time2.append(time_stamp - minimum_time)"
   ]
  },
  {
   "cell_type": "code",
   "execution_count": null,
   "metadata": {},
   "outputs": [],
   "source": [
    "# collision time around 790"
   ]
  },
  {
   "cell_type": "markdown",
   "metadata": {},
   "source": [
    "### Compass heading"
   ]
  },
  {
   "cell_type": "code",
   "execution_count": null,
   "metadata": {},
   "outputs": [],
   "source": [
    "# Figure initialization\n",
    "fig, ax1 = plt.subplots()\n",
    "\n",
    "ax1.set_xlabel('Time [sec]', fontsize=16)\n",
    "ax1.set_ylabel('Heading [degree]', fontsize=16)\n",
    "ax1.plot(standardized_time, compass_heading, label='compass heading')\n",
    "ax1.legend()\n",
    "\n",
    "for wp in standardized_time2:\n",
    "    plt.axvline(x=wp, color='gray', linestyle='--')\n",
    "    \n",
    "plt.show()"
   ]
  },
  {
   "cell_type": "code",
   "execution_count": null,
   "metadata": {},
   "outputs": [],
   "source": [
    "# Figure initialization\n",
    "fig, ax1 = plt.subplots()\n",
    "\n",
    "ax1.set_xlabel('Time [sec]', fontsize=16)\n",
    "ax1.set_ylabel('ground_speed_x [m/s]', fontsize=16)\n",
    "ax1.plot(standardized_time, speed, label='ground_speed_x', color='m')\n",
    "ax1.legend()\n",
    "\n",
    "for wp in standardized_time2:\n",
    "    plt.axvline(x=wp, color='gray', linestyle='--')\n",
    "    \n",
    "plt.show()"
   ]
  },
  {
   "cell_type": "code",
   "execution_count": null,
   "metadata": {},
   "outputs": [],
   "source": [
    "# Figure initialization\n",
    "fig, ax1 = plt.subplots()\n",
    "\n",
    "ax1.set_xlabel('Time [sec]', fontsize=16)\n",
    "ax1.set_ylabel('angular_z [rad/s]', fontsize=16)\n",
    "ax1.plot(standardized_time, angular_z, label='angular_z', color='r')\n",
    "ax1.legend()\n",
    "\n",
    "for wp in standardized_time2:\n",
    "    plt.axvline(x=wp, color='gray', linestyle='--')\n",
    "    \n",
    "plt.show()"
   ]
  },
  {
   "cell_type": "markdown",
   "metadata": {},
   "source": [
    "### Temperature"
   ]
  },
  {
   "cell_type": "code",
   "execution_count": null,
   "metadata": {},
   "outputs": [],
   "source": [
    "# Figure initialization\n",
    "fig, ax1 = plt.subplots()\n",
    "\n",
    "ax1.set_xlabel('Time [sec]', fontsize=16)\n",
    "ax1.set_ylabel('Temperature [degree]', fontsize=16)\n",
    "ax1.plot(standardized_time, temp, label='temp', color='k')\n",
    "ax1.legend()\n",
    "\n",
    "for wp in standardized_time2:\n",
    "    plt.axvline(x=wp, color='gray', linestyle='--')\n",
    "    \n",
    "plt.show()\n",
    "\n",
    "print(\"Standard Deviation of the temp is % s \" %(statistics.stdev(temp)))\n",
    "print(\"Mean of the temp is % s \" %(statistics.mean(temp))) "
   ]
  },
  {
   "cell_type": "markdown",
   "metadata": {},
   "source": [
    "### PH"
   ]
  },
  {
   "cell_type": "code",
   "execution_count": null,
   "metadata": {
    "scrolled": false
   },
   "outputs": [],
   "source": [
    "# Figure initialization\n",
    "fig, ax1 = plt.subplots()\n",
    "\n",
    "ax1.set_xlabel('Time [sec]', fontsize=16)\n",
    "ax1.set_ylabel('PH', fontsize=16)\n",
    "ax1.plot(standardized_time, PH, label='PH', color='r')\n",
    "ax1.legend()\n",
    "\n",
    "for wp in standardized_time2:\n",
    "    plt.axvline(x=wp, color='gray', linestyle='--')\n",
    "    \n",
    "plt.show()\n",
    "\n",
    "print(\"Standard Deviation of the temp is % s \" %(statistics.stdev(PH)))\n",
    "print(\"Mean of the temp is % s \" %(statistics.mean(PH))) "
   ]
  },
  {
   "cell_type": "markdown",
   "metadata": {},
   "source": [
    "### Conductivity"
   ]
  },
  {
   "cell_type": "code",
   "execution_count": null,
   "metadata": {},
   "outputs": [],
   "source": [
    "# Figure initialization\n",
    "fig, ax1 = plt.subplots()\n",
    "\n",
    "ax1.set_xlabel('Time [sec]', fontsize=16)\n",
    "ax1.set_ylabel('Conductivity [ms]', fontsize=16)\n",
    "ax1.plot(standardized_time, cond, label='conductivity', color='b')\n",
    "ax1.legend()\n",
    "\n",
    "for wp in standardized_time2:\n",
    "    plt.axvline(x=wp, color='gray', linestyle='--')\n",
    "    \n",
    "plt.show()\n",
    "\n",
    "print(\"Standard Deviation of the chlorophyll is % s \" %(statistics.stdev(cond)))\n",
    "print(\"Mean of the chlorophyll is % s \" %(statistics.mean(cond)))"
   ]
  },
  {
   "cell_type": "markdown",
   "metadata": {},
   "source": [
    "### Chlorophyll "
   ]
  },
  {
   "cell_type": "code",
   "execution_count": null,
   "metadata": {},
   "outputs": [],
   "source": [
    "# Figure initialization\n",
    "fig, ax1 = plt.subplots()\n",
    "\n",
    "ax1.set_xlabel('Time [sec]', fontsize=16)\n",
    "ax1.set_ylabel('chlorophyll [RFU]', fontsize=16)\n",
    "ax1.plot(standardized_time, chlorophyll, label='chlorophyll', color='g')\n",
    "ax1.legend()\n",
    "\n",
    "for wp in standardized_time2:\n",
    "    plt.axvline(x=wp, color='gray', linestyle='--')\n",
    "    \n",
    "plt.show()\n",
    "\n",
    "print(\"Standard Deviation of the chlorophyll is % s \" %(statistics.stdev(chlorophyll)))\n",
    "print(\"Mean of the chlorophyll is % s \" %(statistics.mean(chlorophyll))) "
   ]
  },
  {
   "cell_type": "markdown",
   "metadata": {},
   "source": [
    "### ODO"
   ]
  },
  {
   "cell_type": "code",
   "execution_count": null,
   "metadata": {},
   "outputs": [],
   "source": [
    "# Figure initialization\n",
    "fig, ax1 = plt.subplots()\n",
    "\n",
    "ax1.set_xlabel('Time [sec]', fontsize=16)\n",
    "ax1.set_ylabel('ODO [%sat]', fontsize=16)\n",
    "ax1.plot(standardized_time, ODO, label='ODO', color='m')\n",
    "ax1.legend()\n",
    "\n",
    "for wp in standardized_time2:\n",
    "    plt.axvline(x=wp, color='gray', linestyle='--')\n",
    "    \n",
    "plt.show()\n",
    "\n",
    "print(\"Standard Deviation of the DO is % s \" %(statistics.stdev(ODO)))\n",
    "print(\"Mean of the DO is % s \" %(statistics.mean(ODO))) "
   ]
  },
  {
   "cell_type": "markdown",
   "metadata": {},
   "source": [
    "### Sonar depth"
   ]
  },
  {
   "cell_type": "code",
   "execution_count": null,
   "metadata": {},
   "outputs": [],
   "source": [
    "# Figure initialization\n",
    "fig, ax1 = plt.subplots()\n",
    "\n",
    "ax1.set_xlabel('Time [sec]', fontsize=16)\n",
    "ax1.set_ylabel('sonar [m]', fontsize=16)\n",
    "ax1.plot(standardized_time, sonar, label='sonar', color='c')\n",
    "ax1.legend()\n",
    "\n",
    "for wp in standardized_time2:\n",
    "    plt.axvline(x=wp, color='gray', linestyle='--')\n",
    "    \n",
    "plt.show()"
   ]
  },
  {
   "cell_type": "code",
   "execution_count": null,
   "metadata": {},
   "outputs": [],
   "source": []
  }
 ],
 "metadata": {
  "kernelspec": {
   "display_name": "Python 3",
   "language": "python",
   "name": "python3"
  },
  "language_info": {
   "codemirror_mode": {
    "name": "ipython",
    "version": 3
   },
   "file_extension": ".py",
   "mimetype": "text/x-python",
   "name": "python",
   "nbconvert_exporter": "python",
   "pygments_lexer": "ipython3",
   "version": "3.6.5"
  }
 },
 "nbformat": 4,
 "nbformat_minor": 2
}
