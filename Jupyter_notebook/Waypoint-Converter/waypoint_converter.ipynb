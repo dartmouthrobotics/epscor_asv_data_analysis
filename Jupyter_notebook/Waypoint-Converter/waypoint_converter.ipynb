{
 "cells": [
  {
   "cell_type": "markdown",
   "metadata": {},
   "source": [
    "## Waypoint Converter"
   ]
  },
  {
   "cell_type": "markdown",
   "metadata": {},
   "source": [
    "* Author: Mingi Jeong\n",
    "* Goal: this notebook converts **.waypoint** of Mission Planner to **.csv** format"
   ]
  },
  {
   "cell_type": "markdown",
   "metadata": {},
   "source": [
    "### Prerequisite"
   ]
  },
  {
   "cell_type": "code",
   "execution_count": 84,
   "metadata": {
    "scrolled": true
   },
   "outputs": [],
   "source": [
    "# load .waypoint file from repo or local drive\n",
    "import requests\n",
    "import os\n",
    "\n",
    "\n",
    "notebook_path = os.path.abspath(\"waypoint_converter.ipynb\")\n",
    "waypoint_dir = os.path.dirname(os.path.dirname(os.path.dirname(notebook_path)))\n",
    "file_name = '20210703-NW-lawnmower-samplepoint.waypoints' # change this part for the file name\n",
    "waypoint_file_path = os.path.join(waypoint_dir, \"Mission\\\\Waypoint\\\\\" + file_name)"
   ]
  },
  {
   "cell_type": "code",
   "execution_count": 79,
   "metadata": {},
   "outputs": [
    {
     "data": {
      "text/plain": [
       "'C:\\\\Users\\\\lupan\\\\git_ws\\\\epscor_asv_data_analysis\\\\Mission\\\\csv\\\\20210703-NW-lawnmower-samplepoint.csv'"
      ]
     },
     "execution_count": 79,
     "metadata": {},
     "output_type": "execute_result"
    }
   ],
   "source": [
    "output_csv_name = file_name[:file_name.find(\".\")] + \".csv\"\n",
    "output_csv_path = os.path.join(waypoint_dir, \"Mission\\\\csv\\\\\" + output_csv_name)\n",
    "output_csv_path"
   ]
  },
  {
   "cell_type": "markdown",
   "metadata": {},
   "source": [
    "### Load Data"
   ]
  },
  {
   "cell_type": "code",
   "execution_count": 80,
   "metadata": {},
   "outputs": [
    {
     "name": "stdout",
     "output_type": "stream",
     "text": [
      "['QGC', 'WPL', '110']\n",
      "['0', '1', '0', '16', '0', '0', '0', '0', '43.410176', '-72.036796', '337.609900', '1']\n",
      "['1', '0', '3', '19', '120.00000000', '0.00000000', '0.00000000', '0.00000000', '43.41715770', '-72.05376960', '1.000000', '1']\n",
      "['2', '0', '3', '16', '0.00000000', '0.00000000', '0.00000000', '0.00000000', '43.41829940', '-72.05144520', '1.000000', '1']\n",
      "['3', '0', '3', '16', '0.00000000', '0.00000000', '0.00000000', '0.00000000', '43.41799710', '-72.05095600', '1.000000', '1']\n",
      "['4', '0', '3', '16', '0.00000000', '0.00000000', '0.00000000', '0.00000000', '43.41679260', '-72.05340840', '1.000000', '1']\n",
      "['5', '0', '3', '16', '0.00000000', '0.00000000', '0.00000000', '0.00000000', '43.41643900', '-72.05302380', '1.000000', '1']\n",
      "['6', '0', '3', '16', '0.00000000', '0.00000000', '0.00000000', '0.00000000', '43.41769490', '-72.05046680', '1.000000', '1']\n",
      "['7', '0', '3', '16', '0.00000000', '0.00000000', '0.00000000', '0.00000000', '43.41739270', '-72.04997760', '1.000000', '1']\n",
      "['8', '0', '3', '16', '0.00000000', '0.00000000', '0.00000000', '0.00000000', '43.41608530', '-72.05263930', '1.000000', '1']\n",
      "['9', '0', '3', '16', '0.00000000', '0.00000000', '0.00000000', '0.00000000', '43.41573170', '-72.05225470', '1.000000', '1']\n",
      "['10', '0', '3', '16', '0.00000000', '0.00000000', '0.00000000', '0.00000000', '43.41709040', '-72.04948840', '1.000000', '1']\n",
      "['11', '0', '3', '16', '0.00000000', '0.00000000', '0.00000000', '0.00000000', '43.41678820', '-72.04899920', '1.000000', '1']\n",
      "['12', '0', '3', '16', '0.00000000', '0.00000000', '0.00000000', '0.00000000', '43.41537810', '-72.05187010', '1.000000', '1']\n",
      "['13', '0', '3', '16', '0.00000000', '0.00000000', '0.00000000', '0.00000000', '43.41502450', '-72.05148560', '1.000000', '1']\n",
      "['14', '0', '3', '19', '120.00000000', '0.00000000', '0.00000000', '0.00000000', '43.41648600', '-72.04851010', '1.000000', '1']\n",
      "['15', '0', '3', '16', '0.00000000', '0.00000000', '0.00000000', '0.00000000', '43.41618370', '-72.04802090', '1.000000', '1']\n",
      "['16', '0', '3', '16', '0.00000000', '0.00000000', '0.00000000', '0.00000000', '43.41467090', '-72.05110110', '1.000000', '1']\n",
      "['17', '0', '3', '16', '0.00000000', '0.00000000', '0.00000000', '0.00000000', '43.41431720', '-72.05071650', '1.000000', '1']\n",
      "['18', '0', '3', '16', '0.00000000', '0.00000000', '0.00000000', '0.00000000', '43.41588150', '-72.04753170', '1.000000', '1']\n",
      "['19', '0', '3', '16', '0.00000000', '0.00000000', '0.00000000', '0.00000000', '43.41557920', '-72.04704250', '1.000000', '1']\n",
      "['20', '0', '3', '16', '0.00000000', '0.00000000', '0.00000000', '0.00000000', '43.41396360', '-72.05033200', '1.000000', '1']\n",
      "['21', '0', '3', '16', '0.00000000', '0.00000000', '0.00000000', '0.00000000', '43.41361000', '-72.04994750', '1.000000', '1']\n",
      "['22', '0', '3', '19', '120.00000000', '0.00000000', '0.00000000', '0.00000000', '43.41527700', '-72.04655340', '1.000000', '1']\n",
      "['23', '0', '3', '16', '0.00000000', '0.00000000', '0.00000000', '0.00000000', '43.41351190', '-72.04250340', '0.000000', '1']\n",
      "['24', '0', '3', '16', '0.00000000', '0.00000000', '0.00000000', '0.00000000', '43.41049570', '-72.03668830', '100.000000', '1']\n"
     ]
    }
   ],
   "source": [
    "f = open(waypoint_file_path)\n",
    "\n",
    "# testing of waypoint load\n",
    "for line in f:\n",
    "    wp_components = line.split()\n",
    "    print(wp_components)"
   ]
  },
  {
   "cell_type": "code",
   "execution_count": 81,
   "metadata": {},
   "outputs": [
    {
     "name": "stdout",
     "output_type": "stream",
     "text": [
      "C:\\Users\\lupan\\git_ws\\epscor_asv_data_analysis\\Mission\\csv\\20210703-NW-lawnmower-samplepoint.csv \n",
      " ======> successfully file saved\n"
     ]
    }
   ],
   "source": [
    "import csv\n",
    "\n",
    "# reopen .waypoint\n",
    "f = open(waypoint_file_path)\n",
    "\n",
    "# csv opener\n",
    "with open(output_csv_path,  'w', newline='') as file:\n",
    "    writer = csv.writer(file)\n",
    "    \n",
    "    # .waypoint iteration\n",
    "    for line in f:\n",
    "        wp_components = line.split()\n",
    "        writer.writerow(wp_components)\n",
    "        \n",
    "print(\"{} \\n ======> successfully file saved\".format(output_csv_path))"
   ]
  },
  {
   "cell_type": "code",
   "execution_count": null,
   "metadata": {},
   "outputs": [],
   "source": []
  }
 ],
 "metadata": {
  "kernelspec": {
   "display_name": "Python 3",
   "language": "python",
   "name": "python3"
  },
  "language_info": {
   "codemirror_mode": {
    "name": "ipython",
    "version": 3
   },
   "file_extension": ".py",
   "mimetype": "text/x-python",
   "name": "python",
   "nbconvert_exporter": "python",
   "pygments_lexer": "ipython3",
   "version": "3.6.10"
  }
 },
 "nbformat": 4,
 "nbformat_minor": 4
}
